{
 "cells": [
  {
   "cell_type": "code",
   "execution_count": 6,
   "id": "a9ce10f5-32e3-48e1-a6e9-024c55b6ba4d",
   "metadata": {},
   "outputs": [],
   "source": [
    "import pandas as pd\n",
    "import numpy as np\n",
    "from sklearn.preprocessing import MinMaxScaler\n",
    "from sklearn.svm import LinearSVC\n",
    "from sklearn.svm import SVC\n",
    "from sklearn.kernel_approximation import Nystroem\n",
    "from sklearn.svm import SVC\n",
    "from sklearn.linear_model import SGDClassifier\n",
    "import os\n",
    "data_path = ['..', '..', 'data']\n",
    "import matplotlib.pyplot as plt\n",
    "import seaborn as sns\n",
    "%matplotlib inline\n"
   ]
  },
  {
   "cell_type": "code",
   "execution_count": 2,
   "id": "c726fa47-481e-4ff9-b7c2-5da5f64ef9f6",
   "metadata": {},
   "outputs": [],
   "source": [
    "data = pd.read_csv('phishing.csv')\n"
   ]
  },
  {
   "cell_type": "code",
   "execution_count": 4,
   "id": "c4c1302f-efe2-4a95-a988-16f1a28d6b07",
   "metadata": {},
   "outputs": [
    {
     "data": {
      "text/plain": [
       "SSLfinal_State                -0.714741\n",
       "URL_of_Anchor                 -0.692935\n",
       "Prefix_Suffix                 -0.348606\n",
       "web_traffic                   -0.346103\n",
       "having_Sub_Domain             -0.298323\n",
       "Request_URL                   -0.253372\n",
       "Links_in_tags                 -0.248229\n",
       "SFH                           -0.221419\n",
       "Google_Index                  -0.128950\n",
       "age_of_domain                 -0.121496\n",
       "Page_Rank                     -0.104645\n",
       "having_IP_Address             -0.094160\n",
       "Statistical_report            -0.079857\n",
       "DNSRecord                     -0.075718\n",
       "URL_Length                    -0.057430\n",
       "having_At_Symbol              -0.052948\n",
       "on_mouseover                  -0.041838\n",
       "port                          -0.036419\n",
       "Links_pointing_to_page        -0.032574\n",
       "Submitting_to_email           -0.018249\n",
       "RightClick                    -0.012653\n",
       "popUpWidnow                   -0.000086\n",
       "Favicon                        0.000280\n",
       "Iframe                         0.003394\n",
       "Redirect                       0.020113\n",
       "double_slash_redirecting       0.038608\n",
       "HTTPS_token                    0.039854\n",
       "Abnormal_URL                   0.060488\n",
       "Shortining_Service             0.067966\n",
       "Domain_registeration_length    0.225789\n",
       "dtype: float64"
      ]
     },
     "execution_count": 4,
     "metadata": {},
     "output_type": "execute_result"
    }
   ],
   "source": [
    "y = (data['Result'] == -1).astype(int)\n",
    "fields = list(data.columns[:-1]) \n",
    "correlations = data[fields].corrwith(y)\n",
    "correlations.sort_values(inplace=True)\n",
    "correlations\n"
   ]
  },
  {
   "cell_type": "code",
   "execution_count": null,
   "id": "7ed555ad-2d48-4d64-bea0-4456c49e34dd",
   "metadata": {},
   "outputs": [],
   "source": [
    "sns.set_context('talk')\n",
    "sns.set_palette('dark')\n",
    "sns.set_style('white')\n"
   ]
  },
  {
   "cell_type": "code",
   "execution_count": null,
   "id": "e1822d22-9b8f-4c8d-bf79-b96575644f8c",
   "metadata": {},
   "outputs": [],
   "source": [
    "sns.pairplot(data, hue='Result')\n"
   ]
  },
  {
   "cell_type": "code",
   "execution_count": null,
   "id": "ceb3be5e-86be-4a4d-b9b0-c2863cc4b13e",
   "metadata": {},
   "outputs": [],
   "source": [
    "ax = correlations.plot(kind='bar')\n",
    "ax.set(ylim=[-1, 1], ylabel='pearson correlation');\n"
   ]
  },
  {
   "cell_type": "code",
   "execution_count": null,
   "id": "c68d39b3-1c28-471e-a14d-c665c9115d15",
   "metadata": {},
   "outputs": [],
   "source": [
    "fields = correlations.map(abs).sort_values().iloc[-2:].index\n",
    "print(fields)\n",
    "X = data[fields]\n",
    "scaler = MinMaxScaler()\n",
    "X = scaler.fit_transform(X)\n",
    "X = pd.DataFrame(X, columns=['%s_scaled' % fld for fld in fields])\n",
    "print(X.columns)\n"
   ]
  },
  {
   "cell_type": "code",
   "execution_count": null,
   "id": "4296ab60-41e3-4e0c-ba51-4abb14bd996a",
   "metadata": {},
   "outputs": [],
   "source": [
    "LSVC = LinearSVC()\n",
    "LSVC.fit(X,y)\n",
    "\n",
    "X_color = X.sample(300, random_state=45)\n",
    "y_color = y.loc[X_color.index]\n",
    "y_color = y_color.map(lambda r: 'red' if r == 1 else 'yellow')\n",
    "ax = plt.axes()\n",
    "ax.scatter(X_color.iloc[:, 0], X_color.iloc[:, 1],color=y_color, alpha=1)\n",
    "# -----------\n",
    "x_axis, y_axis = np.arange(0, 1.005, .005), np.arange(0, 1.005, .005)\n",
    "xx, yy = np.meshgrid(x_axis, y_axis)\n",
    "xx_ravel = xx.ravel()\n",
    "yy_ravel = yy.ravel()\n",
    "X_grid = pd.DataFrame([xx_ravel, yy_ravel]).T\n",
    "y_grid_predictions = LSVC.predict(X_grid)\n",
    "y_grid_predictions = y_grid_predictions.reshape(xx.shape)\n",
    "ax.contourf(xx, yy, y_grid_predictions, cmap=plt.cm.autumn_r, alpha=.3)\n",
    "# -----------\n",
    "ax.set(\n",
    "    xlabel=fields[0],\n",
    "    ylabel=fields[1],\n",
    "    xlim=[0, 1],\n",
    "    ylim=[0, 1],\n",
    "    title='decision boundary for LinearSVC');\n"
   ]
  },
  {
   "cell_type": "code",
   "execution_count": null,
   "id": "9617aeac-9658-4186-8133-0cad9e0ae51f",
   "metadata": {},
   "outputs": [],
   "source": [
    "def plot_decision_boundary(estimator, X, y):\n",
    "    estimator.fit(X, y)\n",
    "    X_color = X.sample(300)\n",
    "    y_color = y.loc[X_color.index]\n",
    "    y_color = y_color.map(lambda r: 'red' if r == 1 else 'yellow')\n",
    "    x_axis, y_axis = np.arange(0, 1, .005), np.arange(0, 1, .005)\n",
    "    xx, yy = np.meshgrid(x_axis, y_axis)\n",
    "    xx_ravel = xx.ravel()\n",
    "    yy_ravel = yy.ravel()\n",
    "    X_grid = pd.DataFrame([xx_ravel, yy_ravel]).T\n",
    "    y_grid_predictions = estimator.predict(X_grid)\n",
    "    y_grid_predictions = y_grid_predictions.reshape(xx.shape)\n",
    "\n",
    "    fig, ax = plt.subplots(figsize=(10, 10))\n",
    "    ax.contourf(xx, yy, y_grid_predictions, cmap=plt.cm.autumn_r, alpha=.3)\n",
    "    ax.scatter(X_color.iloc[:, 0], X_color.iloc[:, 1], color=y_color, alpha=1)\n",
    "    ax.set(\n",
    "        xlabel=fields[0],\n",
    "        ylabel=fields[1],\n",
    "        title=str(estimator))\n"
   ]
  },
  {
   "cell_type": "code",
   "execution_count": null,
   "id": "d45da021-91c8-4843-b548-43ff0c215e88",
   "metadata": {},
   "outputs": [],
   "source": [
    "gammas = [.5, 1, 2, 10]\n",
    "for gamma in gammas:\n",
    "    SVC_Gaussian = SVC(kernel='rbf', gamma=gamma)\n",
    "    plot_decision_boundary(SVC_Gaussian, X, y)\n"
   ]
  },
  {
   "cell_type": "code",
   "execution_count": null,
   "id": "beab9392-1b2c-4836-9ecb-be2eabe2bf3a",
   "metadata": {},
   "outputs": [],
   "source": [
    "Cs = [.1, 1, 10]\n",
    "for C in Cs:\n",
    "    SVC_Gaussian = SVC(kernel='rbf', gamma=2, C=C)\n",
    "    plot_decision_boundary(SVC_Gaussian, X, y)\n"
   ]
  },
  {
   "cell_type": "code",
   "execution_count": null,
   "id": "270ff9a7-c12b-4a0d-8286-19fe858b6f4b",
   "metadata": {},
   "outputs": [],
   "source": [
    "y = data['Result'] == -1\n",
    "X = data[data.columns[:-1]]\n",
    "kwargs = {'kernel': 'rbf'}\n",
    "svc = SVC(**kwargs)\n",
    "nystroem = Nystroem(**kwargs)\n",
    "sgd = SGDClassifier()\n"
   ]
  },
  {
   "cell_type": "code",
   "execution_count": null,
   "id": "08a478a4-2815-4911-a630-1c6984ab8f7c",
   "metadata": {},
   "outputs": [],
   "source": [
    "%%timeit\n",
    "svc.fit(X, y)\n"
   ]
  },
  {
   "cell_type": "code",
   "execution_count": null,
   "id": "e8f41723-f7ad-428f-8808-74f1ba5315d0",
   "metadata": {},
   "outputs": [],
   "source": [
    "%%timeit\n",
    "X_transformed = nystroem.fit_transform(X)\n",
    "sgd.fit(X_transformed, y)\n"
   ]
  },
  {
   "cell_type": "code",
   "execution_count": null,
   "id": "b160fc6f-5249-4cba-a97f-8593bcc3326b",
   "metadata": {},
   "outputs": [],
   "source": [
    "X2 = pd.concat([X]*5)\n",
    "y2 = pd.concat([y]*5)\n",
    "\n",
    "# X2 = pd.concat([X]*7)\n",
    "# y2 = pd.concat([y]*3)\n",
    "\n",
    "# X2 = pd.concat([X]*9)\n",
    "# y2 = pd.concat([y]*1)\n",
    "\n",
    "print(X2.shape)\n",
    "print(y2.shape)\n"
   ]
  },
  {
   "cell_type": "code",
   "execution_count": null,
   "id": "e81d4791-c2e4-41e5-8b1f-4b2e46f48fe8",
   "metadata": {},
   "outputs": [],
   "source": [
    "%%timeit \n",
    "svc.fit(X2, y2)\n"
   ]
  },
  {
   "cell_type": "code",
   "execution_count": null,
   "id": "25d881ae-9696-416a-85d0-97ceb67e0cd8",
   "metadata": {},
   "outputs": [],
   "source": [
    "%%timeit\n",
    "X2_transformed = nystroem.fit_transform(X2)\n",
    "sgd.fit(X2_transformed, y2)\n"
   ]
  },
  {
   "cell_type": "code",
   "execution_count": null,
   "id": "6517c1b7-94d9-4322-873c-b964be7ac88e",
   "metadata": {},
   "outputs": [],
   "source": []
  }
 ],
 "metadata": {
  "kernelspec": {
   "display_name": "Python 3 (ipykernel)",
   "language": "python",
   "name": "python3"
  },
  "language_info": {
   "codemirror_mode": {
    "name": "ipython",
    "version": 3
   },
   "file_extension": ".py",
   "mimetype": "text/x-python",
   "name": "python",
   "nbconvert_exporter": "python",
   "pygments_lexer": "ipython3",
   "version": "3.11.7"
  }
 },
 "nbformat": 4,
 "nbformat_minor": 5
}
