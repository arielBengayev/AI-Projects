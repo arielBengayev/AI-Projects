{
 "cells": [
  {
   "cell_type": "code",
   "execution_count": 7,
   "id": "0b09688e-d61a-4860-9c95-58ba14914fe7",
   "metadata": {},
   "outputs": [],
   "source": [
    "import pandas as pd\n",
    "import os\n",
    "data_path = ['..', '..', 'data']\n",
    "from sklearn.preprocessing import LabelBinarizer\n",
    "import warnings\n",
    "from sklearn.preprocessing import MinMaxScaler\n",
    "from sklearn.neighbors import KNeighborsClassifier\n",
    "import matplotlib.pyplot as plt\n",
    "import seaborn as sns\n",
    "import numpy as np\n",
    "%matplotlib inline\n"
   ]
  },
  {
   "cell_type": "code",
   "execution_count": 2,
   "id": "61aa9fd7-8ed3-40cc-b8cf-fbd80ad6e3f8",
   "metadata": {},
   "outputs": [],
   "source": [
    "data = pd.read_csv('teleCust1000t.csv')\n"
   ]
  },
  {
   "cell_type": "code",
   "execution_count": 3,
   "id": "b18a8a33-5316-4bb5-87b5-c9e8dcf6d1e6",
   "metadata": {},
   "outputs": [
    {
     "data": {
      "text/html": [
       "<div>\n",
       "<style scoped>\n",
       "    .dataframe tbody tr th:only-of-type {\n",
       "        vertical-align: middle;\n",
       "    }\n",
       "\n",
       "    .dataframe tbody tr th {\n",
       "        vertical-align: top;\n",
       "    }\n",
       "\n",
       "    .dataframe thead th {\n",
       "        text-align: right;\n",
       "    }\n",
       "</style>\n",
       "<table border=\"1\" class=\"dataframe\">\n",
       "  <thead>\n",
       "    <tr style=\"text-align: right;\">\n",
       "      <th></th>\n",
       "      <th>0</th>\n",
       "    </tr>\n",
       "  </thead>\n",
       "  <tbody>\n",
       "    <tr>\n",
       "      <th>region</th>\n",
       "      <td>2.0</td>\n",
       "    </tr>\n",
       "    <tr>\n",
       "      <th>tenure</th>\n",
       "      <td>13.0</td>\n",
       "    </tr>\n",
       "    <tr>\n",
       "      <th>age</th>\n",
       "      <td>44.0</td>\n",
       "    </tr>\n",
       "    <tr>\n",
       "      <th>marital</th>\n",
       "      <td>1.0</td>\n",
       "    </tr>\n",
       "    <tr>\n",
       "      <th>address</th>\n",
       "      <td>9.0</td>\n",
       "    </tr>\n",
       "    <tr>\n",
       "      <th>income</th>\n",
       "      <td>64.0</td>\n",
       "    </tr>\n",
       "    <tr>\n",
       "      <th>ed</th>\n",
       "      <td>4.0</td>\n",
       "    </tr>\n",
       "    <tr>\n",
       "      <th>employ</th>\n",
       "      <td>5.0</td>\n",
       "    </tr>\n",
       "    <tr>\n",
       "      <th>retire</th>\n",
       "      <td>0.0</td>\n",
       "    </tr>\n",
       "    <tr>\n",
       "      <th>gender</th>\n",
       "      <td>0.0</td>\n",
       "    </tr>\n",
       "    <tr>\n",
       "      <th>reside</th>\n",
       "      <td>2.0</td>\n",
       "    </tr>\n",
       "    <tr>\n",
       "      <th>custcat</th>\n",
       "      <td>1.0</td>\n",
       "    </tr>\n",
       "  </tbody>\n",
       "</table>\n",
       "</div>"
      ],
      "text/plain": [
       "            0\n",
       "region    2.0\n",
       "tenure   13.0\n",
       "age      44.0\n",
       "marital   1.0\n",
       "address   9.0\n",
       "income   64.0\n",
       "ed        4.0\n",
       "employ    5.0\n",
       "retire    0.0\n",
       "gender    0.0\n",
       "reside    2.0\n",
       "custcat   1.0"
      ]
     },
     "execution_count": 3,
     "metadata": {},
     "output_type": "execute_result"
    }
   ],
   "source": [
    "data.head(1).T"
   ]
  },
  {
   "cell_type": "code",
   "execution_count": 4,
   "id": "a3eede14-9214-4c7c-9427-910e69dd60e7",
   "metadata": {},
   "outputs": [],
   "source": [
    "warnings.filterwarnings('ignore', module='sklearn')\n",
    "msc = MinMaxScaler()\n",
    "data = pd.DataFrame(msc.fit_transform(data),columns=data.columns)"
   ]
  },
  {
   "cell_type": "code",
   "execution_count": 5,
   "id": "78bf71c3-3c34-4a36-9043-744297648898",
   "metadata": {},
   "outputs": [],
   "source": [
    "x_cols = [x for x in data.columns if x != 'custcat']\n",
    "X_data = data[x_cols]\n",
    "y_data = data['custcat']\n"
   ]
  },
  {
   "cell_type": "code",
   "execution_count": 8,
   "id": "8e9144ad-7845-4ce2-8cc9-b3e78888e429",
   "metadata": {
    "scrolled": true
   },
   "outputs": [],
   "source": [
    "threshold = 3.0\n",
    "y_data_binary = np.where(y_data > threshold, 1, 0)\n",
    "\n",
    "knn = KNeighborsClassifier(n_neighbors=3)\n",
    "knn = knn.fit(X_data, y_data_binary)\n",
    "y_pred = knn.predict(X_data)\n"
   ]
  },
  {
   "cell_type": "code",
   "execution_count": 9,
   "id": "f71d57d0-ae62-4495-9bb2-f8001afe0ed7",
   "metadata": {},
   "outputs": [],
   "source": [
    "def accuracy(real, predict):\n",
    "    return sum(y_data_binary == y_pred) / float(real.shape[0])\n",
    "    "
   ]
  },
  {
   "cell_type": "code",
   "execution_count": 10,
   "id": "74e95dee-438c-4af6-aeb6-1b1599dc30c6",
   "metadata": {},
   "outputs": [
    {
     "name": "stdout",
     "output_type": "stream",
     "text": [
      "1.0\n"
     ]
    }
   ],
   "source": [
    "print(accuracy(y_data_binary, y_pred))\n"
   ]
  },
  {
   "cell_type": "code",
   "execution_count": 11,
   "id": "c06d6f12-be5f-4689-a7b8-2ef6b2bedf65",
   "metadata": {},
   "outputs": [
    {
     "name": "stdout",
     "output_type": "stream",
     "text": [
      "1.0\n"
     ]
    }
   ],
   "source": [
    "knn = KNeighborsClassifier(n_neighbors=5, weights='distance')\n",
    "knn = knn.fit(X_data, y_data_binary)\n",
    "y_pred = knn.predict(X_data)\n",
    "print(accuracy(y_data_binary, y_pred))\n"
   ]
  },
  {
   "cell_type": "code",
   "execution_count": 12,
   "id": "c0e19f0b-dbaa-4708-a2f9-e12fd34698ad",
   "metadata": {},
   "outputs": [
    {
     "name": "stdout",
     "output_type": "stream",
     "text": [
      "1.0\n"
     ]
    }
   ],
   "source": [
    "knn = KNeighborsClassifier(n_neighbors=5, p=1)\n",
    "knn = knn.fit(X_data, y_data_binary)\n",
    "y_pred = knn.predict(X_data)\n",
    "print(accuracy(y_data_binary, y_pred))\n"
   ]
  },
  {
   "cell_type": "code",
   "execution_count": 13,
   "id": "6378e551-2e77-4eee-b6df-075de9a100ae",
   "metadata": {},
   "outputs": [],
   "source": [
    "score_list = list()\n",
    "for k in range(1, 21):\n",
    "    knn = KNeighborsClassifier(n_neighbors=k)\n",
    "    knn = knn.fit(X_data, y_data_binary)\n",
    "    y_pred = knn.predict(X_data)\n",
    "    score = accuracy(y_data_binary, y_pred)\n",
    "    score_list.append((k, score))\n",
    "score_df = pd.DataFrame(score_list, columns=['k', 'accuracy'])\n"
   ]
  },
  {
   "cell_type": "code",
   "execution_count": 14,
   "id": "2e6c41bc-5636-443c-9a71-0a623b2085ac",
   "metadata": {},
   "outputs": [
    {
     "data": {
      "image/png": "[encoded data removed]",
      "text/plain": [
       "<Figure size 640x480 with 1 Axes>"
      ]
     },
     "metadata": {},
     "output_type": "display_data"
    }
   ],
   "source": [
    "sns.set_context('talk')\n",
    "sns.set_style('ticks')\n",
    "sns.set_palette('dark')\n",
    "ax = score_df.set_index('k').plot()\n",
    "ax.set(xlabel='k', ylabel='accuracy')\n",
    "ax.set_xticks(range(1, 21));"
   ]
  },
  {
   "cell_type": "code",
   "execution_count": null,
   "id": "e94df5a5-38e9-4671-90ab-5b1abf90edfa",
   "metadata": {},
   "outputs": [],
   "source": []
  }
 ],
 "metadata": {
  "kernelspec": {
   "display_name": "Python 3 (ipykernel)",
   "language": "python",
   "name": "python3"
  },
  "language_info": {
   "codemirror_mode": {
    "name": "ipython",
    "version": 3
   },
   "file_extension": ".py",
   "mimetype": "text/x-python",
   "name": "python",
   "nbconvert_exporter": "python",
   "pygments_lexer": "ipython3",
   "version": "3.11.7"
  }
 },
 "nbformat": 4,
 "nbformat_minor": 5
}
