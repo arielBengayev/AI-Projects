{
 "cells": [
  {
   "cell_type": "code",
   "execution_count": 1,
   "id": "24f90585-3e42-46d1-92da-8f0007c90598",
   "metadata": {},
   "outputs": [],
   "source": [
    "import numpy as np\n",
    "import pandas as pd\n",
    "import matplotlib.pyplot as plt\n",
    "from sklearn.model_selection import train_test_split\n",
    "from sklearn.tree import DecisionTreeClassifier\n",
    "from sklearn.neighbors import KNeighborsClassifier\n",
    "from sklearn.metrics import accuracy_score\n",
    "from sklearn.metrics import accuracy_score, classification_report, f1_score\n",
    "%matplotlib inline\n"
   ]
  },
  {
   "cell_type": "code",
   "execution_count": 2,
   "id": "2aedc72f-adf9-4436-8270-422f122c5a32",
   "metadata": {},
   "outputs": [],
   "source": [
    "dataset = pd.read_csv('spam.csv')\n"
   ]
  },
  {
   "cell_type": "code",
   "execution_count": 5,
   "id": "389662df-d635-4852-b26b-0edfd8b48ffe",
   "metadata": {},
   "outputs": [
    {
     "data": {
      "text/plain": [
       "(4601, 58)"
      ]
     },
     "execution_count": 5,
     "metadata": {},
     "output_type": "execute_result"
    }
   ],
   "source": [
    "dataset.shape"
   ]
  },
  {
   "cell_type": "code",
   "execution_count": 6,
   "id": "8e2acd27-d41b-4cd2-8295-4e8a5bdd77fe",
   "metadata": {},
   "outputs": [
    {
     "data": {
      "text/plain": [
       "<bound method NDFrame.head of       word_freq_make:  word_freq_address:  word_freq_all:  word_freq_3d:  \\\n",
       "0                0.00                0.00            0.00           0.00   \n",
       "1                0.00                0.00            0.00           0.00   \n",
       "2                0.00                0.00            0.00           0.00   \n",
       "3                0.00                0.00            0.00           0.00   \n",
       "4                0.00                0.00            0.00           0.00   \n",
       "...               ...                 ...             ...            ...   \n",
       "4596             0.38                0.00            1.90           0.00   \n",
       "4597             0.34                0.00            1.70           0.00   \n",
       "4598             0.34                0.00            1.70           0.00   \n",
       "4599             0.19                0.19            0.19           0.19   \n",
       "4600             0.20                0.81            0.61           0.00   \n",
       "\n",
       "      word_freq_our:  word_freq_over:  word_freq_remove:  word_freq_internet:  \\\n",
       "0               0.00              0.0               0.00                  0.0   \n",
       "1               0.00              0.0               1.16                  0.0   \n",
       "2               0.00              0.0               1.25                  0.0   \n",
       "3               0.00              0.0               0.00                  0.0   \n",
       "4               7.69              0.0               0.00                  0.0   \n",
       "...              ...              ...                ...                  ...   \n",
       "4596            1.14              0.0               0.00                  0.0   \n",
       "4597            1.02              0.0               0.00                  0.0   \n",
       "4598            1.02              0.0               0.00                  0.0   \n",
       "4599            1.16              0.0               0.00                  0.0   \n",
       "4600            0.00              0.0               0.00                  0.0   \n",
       "\n",
       "      word_freq_order:  word_freq_mail:  ...  char_freq_;:  char_freq_(:  \\\n",
       "0                 0.00             0.00  ...           0.0         0.000   \n",
       "1                 0.00             0.00  ...           0.0         0.000   \n",
       "2                 0.00             0.00  ...           0.0         0.000   \n",
       "3                 0.00             0.00  ...           0.0         0.000   \n",
       "4                 0.00             0.00  ...           0.0         0.588   \n",
       "...                ...              ...  ...           ...           ...   \n",
       "4596              0.38             0.38  ...           0.0         0.000   \n",
       "4597              0.68             1.02  ...           0.0         0.000   \n",
       "4598              0.68             1.02  ...           0.0         0.000   \n",
       "4599              0.58             0.38  ...           0.0         0.070   \n",
       "4600              0.20             0.00  ...           0.0         0.000   \n",
       "\n",
       "      char_freq_[:  char_freq_!:  char_freq_$:  char_freq_#:  \\\n",
       "0              0.0         1.754         0.000          0.00   \n",
       "1              0.0         0.000         0.000          0.00   \n",
       "2              0.0         0.000         0.000          0.00   \n",
       "3              0.0         5.000         0.000          0.00   \n",
       "4              0.0         0.000         0.000          0.00   \n",
       "...            ...           ...           ...           ...   \n",
       "4596           0.0         1.008         0.059          0.00   \n",
       "4597           0.0         0.902         0.106          0.00   \n",
       "4598           0.0         0.899         0.105          0.00   \n",
       "4599           0.0         0.000         1.121          0.00   \n",
       "4600           0.0         0.831         0.338          0.03   \n",
       "\n",
       "      capital_run_length_average:  capital_run_length_longest:  \\\n",
       "0                             1.0                            1   \n",
       "1                             1.0                            1   \n",
       "2                             1.0                            1   \n",
       "3                             1.0                            1   \n",
       "4                             1.0                            1   \n",
       "...                           ...                          ...   \n",
       "4596                        589.0                         1177   \n",
       "4597                        664.0                         1327   \n",
       "4598                        667.0                         1333   \n",
       "4599                       1021.5                         2042   \n",
       "4600                       1102.5                         2204   \n",
       "\n",
       "      capital_run_length_total:  spam  \n",
       "0                             7     1  \n",
       "1                            21     1  \n",
       "2                            19     1  \n",
       "3                             2     1  \n",
       "4                             6     1  \n",
       "...                         ...   ...  \n",
       "4596                       1178     1  \n",
       "4597                       1328     1  \n",
       "4598                       1334     1  \n",
       "4599                       2043     1  \n",
       "4600                       2205     1  \n",
       "\n",
       "[4601 rows x 58 columns]>"
      ]
     },
     "execution_count": 6,
     "metadata": {},
     "output_type": "execute_result"
    }
   ],
   "source": [
    "dataset.head"
   ]
  },
  {
   "cell_type": "code",
   "execution_count": 7,
   "id": "b668d614-1928-46f0-ab3b-ddd9d8f732ec",
   "metadata": {},
   "outputs": [],
   "source": [
    "X = dataset.drop('spam', axis=1)\n",
    "y = dataset['spam']"
   ]
  },
  {
   "cell_type": "code",
   "execution_count": 20,
   "id": "4f767f04-69b0-4c16-b4ca-b0fc4617d5c2",
   "metadata": {},
   "outputs": [],
   "source": [
    "from sklearn.model_selection import train_test_split\n",
    "X_train, X_test, y_train, y_test = train_test_split(X, y, test_size=0.50)\n",
    "\n",
    "# from sklearn.model_selection import train_test_split\n",
    "# X_train, X_test, y_train, y_test = train_test_split(X, y, test_size=0.30)\n",
    "\n",
    "# from sklearn.model_selection import train_test_split\n",
    "# X_train, X_test, y_train, y_test = train_test_split(X, y, test_size=0.10)"
   ]
  },
  {
   "cell_type": "code",
   "execution_count": 21,
   "id": "939f987d-c8e6-4131-9824-9ec203f547a3",
   "metadata": {},
   "outputs": [
    {
     "data": {
      "text/html": [
       "<style>#sk-container-id-3 {color: black;background-color: white;}#sk-container-id-3 pre{padding: 0;}#sk-container-id-3 div.sk-toggleable {background-color: white;}#sk-container-id-3 label.sk-toggleable__label {cursor: pointer;display: block;width: 100%;margin-bottom: 0;padding: 0.3em;box-sizing: border-box;text-align: center;}#sk-container-id-3 label.sk-toggleable__label-arrow:before {content: \"▸\";float: left;margin-right: 0.25em;color: #696969;}#sk-container-id-3 label.sk-toggleable__label-arrow:hover:before {color: black;}#sk-container-id-3 div.sk-estimator:hover label.sk-toggleable__label-arrow:before {color: black;}#sk-container-id-3 div.sk-toggleable__content {max-height: 0;max-width: 0;overflow: hidden;text-align: left;background-color: #f0f8ff;}#sk-container-id-3 div.sk-toggleable__content pre {margin: 0.2em;color: black;border-radius: 0.25em;background-color: #f0f8ff;}#sk-container-id-3 input.sk-toggleable__control:checked~div.sk-toggleable__content {max-height: 200px;max-width: 100%;overflow: auto;}#sk-container-id-3 input.sk-toggleable__control:checked~label.sk-toggleable__label-arrow:before {content: \"▾\";}#sk-container-id-3 div.sk-estimator input.sk-toggleable__control:checked~label.sk-toggleable__label {background-color: #d4ebff;}#sk-container-id-3 div.sk-label input.sk-toggleable__control:checked~label.sk-toggleable__label {background-color: #d4ebff;}#sk-container-id-3 input.sk-hidden--visually {border: 0;clip: rect(1px 1px 1px 1px);clip: rect(1px, 1px, 1px, 1px);height: 1px;margin: -1px;overflow: hidden;padding: 0;position: absolute;width: 1px;}#sk-container-id-3 div.sk-estimator {font-family: monospace;background-color: #f0f8ff;border: 1px dotted black;border-radius: 0.25em;box-sizing: border-box;margin-bottom: 0.5em;}#sk-container-id-3 div.sk-estimator:hover {background-color: #d4ebff;}#sk-container-id-3 div.sk-parallel-item::after {content: \"\";width: 100%;border-bottom: 1px solid gray;flex-grow: 1;}#sk-container-id-3 div.sk-label:hover label.sk-toggleable__label {background-color: #d4ebff;}#sk-container-id-3 div.sk-serial::before {content: \"\";position: absolute;border-left: 1px solid gray;box-sizing: border-box;top: 0;bottom: 0;left: 50%;z-index: 0;}#sk-container-id-3 div.sk-serial {display: flex;flex-direction: column;align-items: center;background-color: white;padding-right: 0.2em;padding-left: 0.2em;position: relative;}#sk-container-id-3 div.sk-item {position: relative;z-index: 1;}#sk-container-id-3 div.sk-parallel {display: flex;align-items: stretch;justify-content: center;background-color: white;position: relative;}#sk-container-id-3 div.sk-item::before, #sk-container-id-3 div.sk-parallel-item::before {content: \"\";position: absolute;border-left: 1px solid gray;box-sizing: border-box;top: 0;bottom: 0;left: 50%;z-index: -1;}#sk-container-id-3 div.sk-parallel-item {display: flex;flex-direction: column;z-index: 1;position: relative;background-color: white;}#sk-container-id-3 div.sk-parallel-item:first-child::after {align-self: flex-end;width: 50%;}#sk-container-id-3 div.sk-parallel-item:last-child::after {align-self: flex-start;width: 50%;}#sk-container-id-3 div.sk-parallel-item:only-child::after {width: 0;}#sk-container-id-3 div.sk-dashed-wrapped {border: 1px dashed gray;margin: 0 0.4em 0.5em 0.4em;box-sizing: border-box;padding-bottom: 0.4em;background-color: white;}#sk-container-id-3 div.sk-label label {font-family: monospace;font-weight: bold;display: inline-block;line-height: 1.2em;}#sk-container-id-3 div.sk-label-container {text-align: center;}#sk-container-id-3 div.sk-container {/* jupyter's `normalize.less` sets `[hidden] { display: none; }` but bootstrap.min.css set `[hidden] { display: none !important; }` so we also need the `!important` here to be able to override the default hidden behavior on the sphinx rendered scikit-learn.org. See: https://github.com/scikit-learn/scikit-learn/issues/21755 */display: inline-block !important;position: relative;}#sk-container-id-3 div.sk-text-repr-fallback {display: none;}</style><div id=\"sk-container-id-3\" class=\"sk-top-container\"><div class=\"sk-text-repr-fallback\"><pre>DecisionTreeClassifier()</pre><b>In a Jupyter environment, please rerun this cell to show the HTML representation or trust the notebook. <br />On GitHub, the HTML representation is unable to render, please try loading this page with nbviewer.org.</b></div><div class=\"sk-container\" hidden><div class=\"sk-item\"><div class=\"sk-estimator sk-toggleable\"><input class=\"sk-toggleable__control sk-hidden--visually\" id=\"sk-estimator-id-3\" type=\"checkbox\" checked><label for=\"sk-estimator-id-3\" class=\"sk-toggleable__label sk-toggleable__label-arrow\">DecisionTreeClassifier</label><div class=\"sk-toggleable__content\"><pre>DecisionTreeClassifier()</pre></div></div></div></div></div>"
      ],
      "text/plain": [
       "DecisionTreeClassifier()"
      ]
     },
     "execution_count": 21,
     "metadata": {},
     "output_type": "execute_result"
    }
   ],
   "source": [
    "from sklearn.tree import DecisionTreeClassifier\n",
    "classifier = DecisionTreeClassifier()\n",
    "classifier.fit(X_train, y_train)"
   ]
  },
  {
   "cell_type": "code",
   "execution_count": 22,
   "id": "6b418b5c-da51-4daf-bf79-7ea9406c8420",
   "metadata": {},
   "outputs": [],
   "source": [
    "y_pred = classifier.predict(X_test)"
   ]
  },
  {
   "cell_type": "code",
   "execution_count": 23,
   "id": "fa58bb64-baeb-4f96-9aa6-6e8de9df2bfb",
   "metadata": {},
   "outputs": [
    {
     "name": "stdout",
     "output_type": "stream",
     "text": [
      "[[1306  105]\n",
      " [ 110  780]]\n",
      "              precision    recall  f1-score   support\n",
      "\n",
      "           0       0.92      0.93      0.92      1411\n",
      "           1       0.88      0.88      0.88       890\n",
      "\n",
      "    accuracy                           0.91      2301\n",
      "   macro avg       0.90      0.90      0.90      2301\n",
      "weighted avg       0.91      0.91      0.91      2301\n",
      "\n"
     ]
    }
   ],
   "source": [
    "from sklearn.metrics import classification_report, confusion_matrix\n",
    "print(confusion_matrix(y_test, y_pred))\n",
    "print(classification_report(y_test, y_pred))"
   ]
  },
  {
   "cell_type": "code",
   "execution_count": 24,
   "id": "0946a650-7b8a-4821-9db7-af7648d383b3",
   "metadata": {},
   "outputs": [
    {
     "data": {
      "text/plain": [
       "'0.907'"
      ]
     },
     "execution_count": 24,
     "metadata": {},
     "output_type": "execute_result"
    }
   ],
   "source": [
    "f'%.3f' % (accuracy_score(y_test, y_pred))"
   ]
  },
  {
   "cell_type": "code",
   "execution_count": null,
   "id": "429ad0a7-c4a0-41d4-872f-6dccc23a420b",
   "metadata": {},
   "outputs": [],
   "source": []
  }
 ],
 "metadata": {
  "kernelspec": {
   "display_name": "Python 3 (ipykernel)",
   "language": "python",
   "name": "python3"
  },
  "language_info": {
   "codemirror_mode": {
    "name": "ipython",
    "version": 3
   },
   "file_extension": ".py",
   "mimetype": "text/x-python",
   "name": "python",
   "nbconvert_exporter": "python",
   "pygments_lexer": "ipython3",
   "version": "3.11.7"
  }
 },
 "nbformat": 4,
 "nbformat_minor": 5
}
